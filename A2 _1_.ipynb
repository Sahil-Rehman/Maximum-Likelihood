{
 "cells": [
  {
   "cell_type": "markdown",
   "metadata": {},
   "source": [
    "# Assignment 2: Maximum Likelihood [ _65_ / 70 marks]\n",
    "\n",
    "\n",
    "<img src=\"https://www.statisticshowto.com/wp-content/uploads/2015/09/Laplace-distribution.png\" height=200 width=450>"
   ]
  },
  {
   "cell_type": "markdown",
   "metadata": {},
   "source": [
    "The Laplace distribution is a continuous probability distribution defined as the following:\n",
    "\n",
    "$$ f(y; \\mu, \\lambda) = \\frac{1}{2\\lambda}\\exp\\Bigg(-\\frac{\\lvert y-\\mu \\rvert}{\\lambda}\\Bigg)$$\n",
    "\n",
    "In this assignment we will use Maximum Likelihood Estimation to fit a Laplace distribution to a dataset, assuming an exponential model ($\\hat{y}=\\exp(\\mathbf{Xb}$)) rather than our previous linear model ($\\hat{y}=\\mathbf{Xb}$). Here again we will find optimal values for $\\mathbf{b}$. However, unlike our previous work, instead of finding a parameter $\\mathbf{b}$ which minimizes a loss function, we will find a $\\mathbf{b}$ *which maximizes the Laplace Log Likelihood*. Feel free to refer to `L2_codeF2.ipynb`.\n",
    "\n",
    "### Before you submit...\n",
    "* For good measure, restart your kernel by clicking 'Kernel' > 'Restart & Run All'."
   ]
  },
  {
   "cell_type": "code",
   "execution_count": 1,
   "metadata": {},
   "outputs": [],
   "source": [
    "import numpy as np\n",
    "import matplotlib.pyplot as plt\n",
    "import pandas as pd\n",
    "import scipy.optimize as so\n",
    "from sklearn import linear_model\n",
    "from IPython.display import display"
   ]
  },
  {
   "cell_type": "markdown",
   "metadata": {},
   "source": [
    "### Question 1 [ _ / 7 Marks]\n",
    "For a Laplace distribution we can write the negative log likelihood as the following:\n",
    "\n",
    "$$\\ell(y_1,y_2,...,y_n; \\mu, \\lambda)=-\\sum_{i=1}^{n}-\\log(2\\lambda)-\\frac{\\lvert y_i-\\mu \\rvert}{\\lambda}$$\n",
    "\n",
    "Write a function called `laplaceNegLogLikelihood` which takes a vector $\\mathbf{y}$ and parameters $\\mu$ and $\\lambda$ and returns the negative log likelihood. Test your function by calling it with `mu = 0`, `lam = 1` and `y=np.array([2,1,0,0])`."
   ]
  },
  {
   "cell_type": "code",
   "execution_count": 2,
   "metadata": {},
   "outputs": [
    {
     "data": {
      "text/plain": [
       "5.772588722239782"
      ]
     },
     "execution_count": 2,
     "metadata": {},
     "output_type": "execute_result"
    }
   ],
   "source": [
    "def laplaceNegLogLikelihood(mu,lam,y):\n",
    "    # Compute and return nll (negative log likelihood) [ /5 marks]\n",
    "    nll = -np.sum(-np.log(2*lam) - abs(y - mu) / lam)# ****** your code here ******\n",
    "    return nll\n",
    "\n",
    "#Test your function with these values [ /2 marks]\n",
    "mu=0\n",
    "lam=1\n",
    "y=np.array([2,1,0,0])\n",
    "\n",
    "# ****** your code here ******\n",
    "laplaceNegLogLikelihood(mu,lam,y)"
   ]
  },
  {
   "cell_type": "markdown",
   "metadata": {},
   "source": [
    "### Question 2 [ _ / 6 Marks]\n",
    "\n",
    "Write a function called `laplaceRegNegLogLikelihood` that takes as arguments a vector $\\mathbf{y}$, a matrix $\\mathbf{X}$ of features, and a vector $\\mathbf{b}$ of parameters. The function should return the negative log likelihood, assuming that each element of  $\\mathbf{y}$ is independent and identically distributed (i.e. Coming from a Laplace distribution) with parameter $\\mu = \\exp(\\mathbf{X}\\mathbf{b})$. In your return statement, let `lam=1`. Test your function by calling it with `b=np.array([1,2])`, `X=np.array([[1,1,1],[0,2,1]]).T`, `y=np.array([0,2,10])`\n"
   ]
  },
  {
   "cell_type": "code",
   "execution_count": 3,
   "metadata": {},
   "outputs": [
    {
     "data": {
      "text/plain": [
       "161.29641939590317"
      ]
     },
     "execution_count": 3,
     "metadata": {},
     "output_type": "execute_result"
    }
   ],
   "source": [
    "def laplaceRegNegLogLikelihood(b, X, y):\n",
    "    # Compute mu [ /2 marks]\n",
    "    mu = np.exp(np.dot(X,b))# ****** your code here ******\n",
    "    # Compute negative log likelihood (let lam = 1) [ /2 marks]\n",
    "    nll =laplaceNegLogLikelihood(mu, 1, y) # ****** your code here ******\n",
    "    return nll\n",
    "\n",
    "#Test your function with these values [ /2 marks]\n",
    "b=np.array([1,2])\n",
    "X=np.array([[1,1,1],[0,2,1]]).T\n",
    "y=np.array([0,2,10])\n",
    "\n",
    "# ****** your code here ******\n",
    "laplaceRegNegLogLikelihood(b, X, y)"
   ]
  },
  {
   "cell_type": "markdown",
   "metadata": {},
   "source": [
    "### Question 3 [ _ / 4 Marks]\n",
    "\n",
    "Write a function called `modelPredict` which accepts as its first argument $\\mathbf{b}$ (exponential model parameters) and a matrix $\\mathbf{X}$ (for the exponential model, a column of ones and column of $x_i$ inputs).  The function should return predictions of the form $\\widehat{\\mathbf{y}} = \\exp(\\mathbf{X}\\mathbf{b})$. Test your function by calling it with `b=np.array([1,2])`, `X=np.array([[1,1,1],[0,2,1]]).T`."
   ]
  },
  {
   "cell_type": "code",
   "execution_count": 4,
   "metadata": {},
   "outputs": [
    {
     "data": {
      "text/plain": [
       "array([[  2.71828183],\n",
       "       [148.4131591 ],\n",
       "       [ 20.08553692]])"
      ]
     },
     "execution_count": 4,
     "metadata": {},
     "output_type": "execute_result"
    }
   ],
   "source": [
    "def modelPredict(b,X):\n",
    "    #Compute yhat [ /2 marks]\n",
    "    yhat =np.exp(np.dot(X,b).reshape(-1,1)) # ****** your code here ******\n",
    "    return yhat\n",
    "\n",
    "#Test your function with these values [ /2 marks]\n",
    "b=np.array([1,2])\n",
    "X=np.array([[1,1,1],[0,2,1]]).T\n",
    "\n",
    "# ****** your code here ******\n",
    "modelPredict(b,X)"
   ]
  },
  {
   "cell_type": "markdown",
   "metadata": {},
   "source": [
    "### Question 4 [ _ / 6 Marks]\n",
    "\n",
    "Write a function called `modelFit` which accepts matrix $\\mathbf{X}$ and outcomes vector $\\mathbf{y}$ as arguments. The function should return a prediction for $\\mathbf{b}$ which maximizes the Laplace Log Likelihood. Test your function with `X=np.array([[1,1,1],[0,2,1]]).T`, `y=np.array([0,2,10])`. Which values do you get for $\\mathbf{b}$? Print these values."
   ]
  },
  {
   "cell_type": "code",
   "execution_count": 5,
   "metadata": {},
   "outputs": [
    {
     "data": {
      "text/plain": [
       "array([6.93146718e-01, 2.31285967e-07])"
      ]
     },
     "execution_count": 5,
     "metadata": {},
     "output_type": "execute_result"
    }
   ],
   "source": [
    "def modelFit(X,y):\n",
    "    b_init = np.zeros(X.shape[1])\n",
    "    #mu_init=0#modelPredict(b_init,X)\n",
    "    # Start from b_init. Use so.minimize to get a prediction for b which maximizes Laplace Log Likelihood [ /4 marks]  \n",
    "    RES = so.minimize(laplaceRegNegLogLikelihood, b_init, args=(X, y), method=\"Powell\", tol = 1e-8) # ****** your code here ******\n",
    "    return RES.x # ****** your code here ******\n",
    "\n",
    "#Test your function with these values [ /2 marks]\n",
    "X = np.array([[1,1,1],[0,2,1]]).T\n",
    "y = np.array([0,2,10])\n",
    "\n",
    "# ****** your code here ******\n",
    "modelFit(X,y)"
   ]
  },
  {
   "cell_type": "markdown",
   "metadata": {},
   "source": [
    "### Question 5 [ _ / 6 Marks]\n",
    "\n",
    "Load in the data from `A2.csv`. This is a toy dataset which is meant to illustrate geyser eruption times vs. waiting times (until a particular eruption event). \"x\" in this dataset is $\\frac{1}{\\text{eruption length}}$ ($\\text{minutes}^{-1}$) for a particular eruption. \"y\" in this dataset describes the waiting time until said eruption (minutes). Plot a scatterplot of the data. Include axis labels. "
   ]
  },
  {
   "cell_type": "code",
   "execution_count": 6,
   "metadata": {},
   "outputs": [
    {
     "data": {
      "text/plain": [
       "Text(0, 0.5, 'waiting time')"
      ]
     },
     "execution_count": 6,
     "metadata": {},
     "output_type": "execute_result"
    },
    {
     "data": {
      "image/png": "[encoded data removed]",
      "text/plain": [
       "<Figure size 432x288 with 1 Axes>"
      ]
     },
     "metadata": {
      "needs_background": "light"
     },
     "output_type": "display_data"
    }
   ],
   "source": [
    "# Load in the data [ /2 marks]\n",
    "df = pd.read_csv(\"A2.csv\")# ****** your code here ******\n",
    "#df.head()\n",
    "# Plot a scatterplot with labels [ 3/4 marks]\n",
    "# ****** your code here ******\n",
    "plt.scatter(df[\"x\"],df[\"y\"])\n",
    "plt.xlabel(\"geyser eruption times\")\n",
    "plt.ylabel(\"waiting time\")\n",
    "\n",
    "\n"
   ]
  },
  {
   "cell_type": "markdown",
   "metadata": {},
   "source": [
    "### Question 6 [ _ / 19 Marks]\n",
    "\n",
    "Fit a Laplace regression to this data using the functions you wrote above. To recap: here you will find parameters $\\mathbf{b}$ (from $\\mu = \\exp(\\mathbf{Xb}))$ which maximize the Laplace Log Likelihood for our A2 data. Plot the model predictions (`y_pred`) over a set of new x-values $x_{new} \\in [0,6]$ (you can use np.linspace for this) in addition to a scatterplot of the data (i.e. plot points + fit).  "
   ]
  },
  {
   "cell_type": "code",
   "execution_count": 7,
   "metadata": {},
   "outputs": [
    {
     "data": {
      "text/plain": [
       "[<matplotlib.lines.Line2D at 0x7f9e8955ce10>]"
      ]
     },
     "execution_count": 7,
     "metadata": {},
     "output_type": "execute_result"
    },
    {
     "data": {
      "image/png": "[encoded data removed]",
      "text/plain": [
       "<Figure size 432x288 with 1 Axes>"
      ]
     },
     "metadata": {
      "needs_background": "light"
     },
     "output_type": "display_data"
    }
   ],
   "source": [
    "#First, construct the matrix X (with a column of ones and a column of x values) [ /4 marks]\n",
    "x =df[\"x\"].values # ****** your code here ******\n",
    "X =np.c_[np.ones(x.size), x ]  # ****** your code here ******\n",
    "\n",
    "#Next, find b by calling modelFit. modelFit should optimize the laplaceRegressionNegLogLikelihood [ /4 marks]\n",
    "y =df[\"y\"].values # ****** your code here ******\n",
    "b =modelFit(X,y) # ****** your code here ******\n",
    "\n",
    "# For our prediction we need to create new x data (use linspace) and put it in matrix X [ /4 marks]\n",
    "x_new = np.linspace(0,6)# ****** your code here ******\n",
    "X_new = np.c_[np.ones(x_new.size), x_new]# ****** your code here ******\n",
    "\n",
    "# Use modelPredict to get y_pred [ /2 marks]\n",
    "y_pred =modelPredict(b,X_new) # ****** your code here ******\n",
    "\n",
    "#Plot the data points and predictions on the same plot; color the predictions red [ 4/5 marks] \n",
    "# ****** your code here ******\n",
    "#plt.scatter(X[:,1],y)\n",
    "plt.scatter(df[\"x\"],df[\"y\"])\n",
    "plt.xlabel(\"geyser eruption times\")\n",
    "plt.ylabel(\"waiting time\")\n",
    "plt.plot(X_new[:,1],y_pred,color=\"red\")\n",
    "\n",
    "\n",
    "\n"
   ]
  },
  {
   "cell_type": "markdown",
   "metadata": {},
   "source": [
    "### Question 7 [ _ / 22 marks] \n",
    "\n",
    "Finally, apply linear regression (L2, also called \"OLS\") to the data, obtain parameter estimates and plot the predictions over the same range as in Question 6 (i.e. $x \\in [0,6]$). Do you see a problem with the linear regression? Explain why this might be a problem in a sentence or two."
   ]
  },
  {
   "cell_type": "code",
   "execution_count": 8,
   "metadata": {},
   "outputs": [
    {
     "data": {
      "text/plain": [
       "[<matplotlib.lines.Line2D at 0x7f9e896d8450>]"
      ]
     },
     "execution_count": 8,
     "metadata": {},
     "output_type": "execute_result"
    },
    {
     "data": {
      "image/png": "[encoded data removed]",
      "text/plain": [
       "<Figure size 432x288 with 1 Axes>"
      ]
     },
     "metadata": {
      "needs_background": "light"
     },
     "output_type": "display_data"
    }
   ],
   "source": [
    "from sklearn.linear_model import LinearRegression\n",
    "#First, construct the matrix X (with a column of ones and a column of x values) [ /4 marks]\n",
    "x =df[\"x\"].values # ****** your code here ****** \n",
    "X =np.c_[np.ones(x.size), x ]   # ****** your code here ******\n",
    "\n",
    "# Get y values, then use sklearn's linear_model.LinearRegression().fit() to create an L2 fit (using X and y) [ /4 marks]\n",
    "y =df[\"y\"].values # ****** your code here ******\n",
    "lr=LinearRegression()\n",
    "L2_fit =lr.fit(X,y) # ****** your code here ******\n",
    "\n",
    "# For our prediction we need to create new x data (use linspace) and put this in matrix X_new [ /4 marks]\n",
    "x_new =np.linspace(0,6) # ****** your code here ******\n",
    "X_new =np.c_[np.ones(x_new.size), x_new]# ****** your code here ******\n",
    "\n",
    "# Use sklearn's \"predict\" method to get your prediction, given an input matrix X_new y_pred_L2 [ /2 marks]\n",
    "y_pred_L2 =lr.predict(X_new) # ****** your code here ******\n",
    "\n",
    "# Plot the data and linear regression on the same figure. Label axes [ 4/5 marks]\n",
    "# ****** your code here ******\n",
    "plt.scatter(df[\"x\"],df[\"y\"])\n",
    "plt.xlabel(\"geyser eruption times\")\n",
    "plt.ylabel(\"waiting time\")\n",
    "plt.plot(X_new[:,1],y_pred_L2,color=\"black\")\n",
    "\n",
    "\n"
   ]
  },
  {
   "cell_type": "markdown",
   "metadata": {},
   "source": [
    "Why is it a problem? [_1 /3 marks]\n"
   ]
  },
  {
   "cell_type": "markdown",
   "metadata": {},
   "source": [
    "Answer:\n",
    "\n",
    "The graph that we have plotted here has scattered data points, and the Linear regression model isn't able to fit the data properly.\n",
    "One of the difference between the Linear Regression's prediction and prediction by Laplacian is the use of exponent by Laplacian which fits the data properly here.\n",
    "The Linear regression line seems to be underfitted the data as well.\n",
    "So, the Linear regression isn't a good fit for the data here, while the Laplacian seems to be effective as compare to the Linear Regression.\n"
   ]
  }
 ],
 "metadata": {
  "kernelspec": {
   "display_name": "Python 3",
   "language": "python",
   "name": "python3"
  },
  "language_info": {
   "codemirror_mode": {
    "name": "ipython",
    "version": 3
   },
   "file_extension": ".py",
   "mimetype": "text/x-python",
   "name": "python",
   "nbconvert_exporter": "python",
   "pygments_lexer": "ipython3",
   "version": "3.7.4"
  }
 },
 "nbformat": 4,
 "nbformat_minor": 4
}
